{
 "cells": [
  {
   "cell_type": "code",
   "execution_count": 1,
   "id": "24894a90-d105-4228-a1ef-3162e829f85e",
   "metadata": {},
   "outputs": [],
   "source": [
    "import pandas as pd\n",
    "import numpy as np\n",
    "import matplotlib.pyplot as plt\n",
    "import seaborn as sns\n",
    "from sklearn.preprocessing import StandardScaler\n",
    "pd.set_option('display.max_columns', None)\n",
    "import warnings\n",
    "warnings.filterwarnings('ignore')"
   ]
  },
  {
   "cell_type": "markdown",
   "id": "16d228e4-5440-49d7-b3ed-c89bad007460",
   "metadata": {},
   "source": [
    "Preprocessing of Crime data"
   ]
  },
  {
   "cell_type": "code",
   "execution_count": 2,
   "id": "e3c2b350-0d21-4923-b327-2498dc1c6e28",
   "metadata": {},
   "outputs": [
    {
     "data": {
      "text/html": [
       "<div>\n",
       "<style scoped>\n",
       "    .dataframe tbody tr th:only-of-type {\n",
       "        vertical-align: middle;\n",
       "    }\n",
       "\n",
       "    .dataframe tbody tr th {\n",
       "        vertical-align: top;\n",
       "    }\n",
       "\n",
       "    .dataframe thead th {\n",
       "        text-align: right;\n",
       "    }\n",
       "</style>\n",
       "<table border=\"1\" class=\"dataframe\">\n",
       "  <thead>\n",
       "    <tr style=\"text-align: right;\">\n",
       "      <th></th>\n",
       "      <th>report_no</th>\n",
       "      <th>case_number</th>\n",
       "      <th>date</th>\n",
       "      <th>block</th>\n",
       "      <th>iucr_no</th>\n",
       "      <th>location_description</th>\n",
       "      <th>arrest</th>\n",
       "      <th>domestic</th>\n",
       "      <th>beat</th>\n",
       "      <th>district_no</th>\n",
       "      <th>ward_no</th>\n",
       "      <th>community_area_no</th>\n",
       "      <th>fbi_code_no</th>\n",
       "      <th>latitude</th>\n",
       "      <th>longitude</th>\n",
       "    </tr>\n",
       "  </thead>\n",
       "  <tbody>\n",
       "    <tr>\n",
       "      <th>0</th>\n",
       "      <td>11614220</td>\n",
       "      <td>JC174738</td>\n",
       "      <td>3/1/2019 14:00</td>\n",
       "      <td>052XX W CRYSTAL ST</td>\n",
       "      <td>1152</td>\n",
       "      <td>OTHER</td>\n",
       "      <td>False</td>\n",
       "      <td>False</td>\n",
       "      <td>2532</td>\n",
       "      <td>25</td>\n",
       "      <td>37.0</td>\n",
       "      <td>25</td>\n",
       "      <td>11</td>\n",
       "      <td>NaN</td>\n",
       "      <td>NaN</td>\n",
       "    </tr>\n",
       "    <tr>\n",
       "      <th>1</th>\n",
       "      <td>11616238</td>\n",
       "      <td>JC176798</td>\n",
       "      <td>1/11/2019 15:30</td>\n",
       "      <td>029XX N LAKE SHORE DR</td>\n",
       "      <td>1130</td>\n",
       "      <td>RESIDENCE</td>\n",
       "      <td>False</td>\n",
       "      <td>False</td>\n",
       "      <td>1934</td>\n",
       "      <td>19</td>\n",
       "      <td>44.0</td>\n",
       "      <td>6</td>\n",
       "      <td>11</td>\n",
       "      <td>NaN</td>\n",
       "      <td>NaN</td>\n",
       "    </tr>\n",
       "    <tr>\n",
       "      <th>2</th>\n",
       "      <td>11617189</td>\n",
       "      <td>JC177948</td>\n",
       "      <td>2/20/2019 13:30</td>\n",
       "      <td>005XX W WELLINGTON AVE</td>\n",
       "      <td>890</td>\n",
       "      <td>APARTMENT</td>\n",
       "      <td>False</td>\n",
       "      <td>False</td>\n",
       "      <td>1934</td>\n",
       "      <td>19</td>\n",
       "      <td>44.0</td>\n",
       "      <td>6</td>\n",
       "      <td>6</td>\n",
       "      <td>NaN</td>\n",
       "      <td>NaN</td>\n",
       "    </tr>\n",
       "    <tr>\n",
       "      <th>3</th>\n",
       "      <td>11554513</td>\n",
       "      <td>JC101543</td>\n",
       "      <td>1/1/2019 22:55</td>\n",
       "      <td>038XX N OAKLEY AVE</td>\n",
       "      <td>880</td>\n",
       "      <td>STREET</td>\n",
       "      <td>False</td>\n",
       "      <td>False</td>\n",
       "      <td>1921</td>\n",
       "      <td>19</td>\n",
       "      <td>47.0</td>\n",
       "      <td>5</td>\n",
       "      <td>6</td>\n",
       "      <td>NaN</td>\n",
       "      <td>NaN</td>\n",
       "    </tr>\n",
       "    <tr>\n",
       "      <th>4</th>\n",
       "      <td>11556037</td>\n",
       "      <td>JC103643</td>\n",
       "      <td>1/3/2019 19:20</td>\n",
       "      <td>0000X W RWY 27R</td>\n",
       "      <td>2890</td>\n",
       "      <td>AIRCRAFT</td>\n",
       "      <td>False</td>\n",
       "      <td>False</td>\n",
       "      <td>1654</td>\n",
       "      <td>16</td>\n",
       "      <td>41.0</td>\n",
       "      <td>76</td>\n",
       "      <td>26</td>\n",
       "      <td>42.002816</td>\n",
       "      <td>-87.906094</td>\n",
       "    </tr>\n",
       "  </tbody>\n",
       "</table>\n",
       "</div>"
      ],
      "text/plain": [
       "   report_no case_number             date                   block iucr_no  \\\n",
       "0   11614220    JC174738   3/1/2019 14:00      052XX W CRYSTAL ST    1152   \n",
       "1   11616238    JC176798  1/11/2019 15:30   029XX N LAKE SHORE DR    1130   \n",
       "2   11617189    JC177948  2/20/2019 13:30  005XX W WELLINGTON AVE     890   \n",
       "3   11554513    JC101543   1/1/2019 22:55      038XX N OAKLEY AVE     880   \n",
       "4   11556037    JC103643   1/3/2019 19:20         0000X W RWY 27R    2890   \n",
       "\n",
       "  location_description  arrest  domestic  beat  district_no  ward_no  \\\n",
       "0                OTHER   False     False  2532           25     37.0   \n",
       "1            RESIDENCE   False     False  1934           19     44.0   \n",
       "2            APARTMENT   False     False  1934           19     44.0   \n",
       "3               STREET   False     False  1921           19     47.0   \n",
       "4             AIRCRAFT   False     False  1654           16     41.0   \n",
       "\n",
       "   community_area_no fbi_code_no   latitude  longitude  \n",
       "0                 25          11        NaN        NaN  \n",
       "1                  6          11        NaN        NaN  \n",
       "2                  6           6        NaN        NaN  \n",
       "3                  5           6        NaN        NaN  \n",
       "4                 76          26  42.002816 -87.906094  "
      ]
     },
     "execution_count": 2,
     "metadata": {},
     "output_type": "execute_result"
    }
   ],
   "source": [
    "Crime_data = pd.read_csv(\"DMQL DATA/Crime.csv\")\n",
    "Crime_data.head()"
   ]
  },
  {
   "cell_type": "code",
   "execution_count": 3,
   "id": "72eac2cb-03ad-4622-bb12-6e60c0babfce",
   "metadata": {},
   "outputs": [
    {
     "name": "stdout",
     "output_type": "stream",
     "text": [
      "<class 'pandas.core.frame.DataFrame'>\n",
      "RangeIndex: 259035 entries, 0 to 259034\n",
      "Data columns (total 15 columns):\n",
      " #   Column                Non-Null Count   Dtype  \n",
      "---  ------                --------------   -----  \n",
      " 0   report_no             259035 non-null  int64  \n",
      " 1   case_number           259035 non-null  object \n",
      " 2   date                  259035 non-null  object \n",
      " 3   block                 259035 non-null  object \n",
      " 4   iucr_no               259035 non-null  object \n",
      " 5   location_description  257988 non-null  object \n",
      " 6   arrest                259035 non-null  bool   \n",
      " 7   domestic              259035 non-null  bool   \n",
      " 8   beat                  259035 non-null  int64  \n",
      " 9   district_no           259035 non-null  int64  \n",
      " 10  ward_no               259020 non-null  float64\n",
      " 11  community_area_no     259035 non-null  int64  \n",
      " 12  fbi_code_no           259035 non-null  object \n",
      " 13  latitude              257887 non-null  float64\n",
      " 14  longitude             257887 non-null  float64\n",
      "dtypes: bool(2), float64(3), int64(4), object(6)\n",
      "memory usage: 26.2+ MB\n"
     ]
    }
   ],
   "source": [
    "# checking the data type info\n",
    "Crime_data.info()"
   ]
  },
  {
   "cell_type": "code",
   "execution_count": 4,
   "id": "525e7fa2-c7b3-47af-b84a-e26b88f87775",
   "metadata": {},
   "outputs": [
    {
     "name": "stdout",
     "output_type": "stream",
     "text": [
      "(259035, 15)\n"
     ]
    },
    {
     "data": {
      "text/plain": [
       "report_no                  0\n",
       "case_number                0\n",
       "date                       0\n",
       "block                      0\n",
       "iucr_no                    0\n",
       "location_description    1047\n",
       "arrest                     0\n",
       "domestic                   0\n",
       "beat                       0\n",
       "district_no                0\n",
       "ward_no                   15\n",
       "community_area_no          0\n",
       "fbi_code_no                0\n",
       "latitude                1148\n",
       "longitude               1148\n",
       "dtype: int64"
      ]
     },
     "execution_count": 4,
     "metadata": {},
     "output_type": "execute_result"
    }
   ],
   "source": [
    "# checking for null values\n",
    "print(Crime_data.shape)\n",
    "Crime_data.isna().sum()"
   ]
  },
  {
   "cell_type": "code",
   "execution_count": 5,
   "id": "fb50b4cd-8f33-47eb-9f1f-62f10bf661aa",
   "metadata": {},
   "outputs": [
    {
     "data": {
      "text/plain": [
       "domestic\n",
       "False    215991\n",
       "True      43044\n",
       "Name: count, dtype: int64"
      ]
     },
     "execution_count": 5,
     "metadata": {},
     "output_type": "execute_result"
    }
   ],
   "source": [
    "# Analysing attributes\n",
    "Crime_data['arrest'].value_counts()\n",
    "Crime_data['domestic'].value_counts()"
   ]
  },
  {
   "cell_type": "code",
   "execution_count": 6,
   "id": "09b2825c-ea40-4d74-b7b6-a90ca6ab8fef",
   "metadata": {},
   "outputs": [
    {
     "name": "stdout",
     "output_type": "stream",
     "text": [
      "Int64\n"
     ]
    }
   ],
   "source": [
    "# Convert 'ward_no' to nullable integer type (Int64)\n",
    "Crime_data['ward_no'] = Crime_data['ward_no'].astype('Int64')\n",
    "\n",
    "# Verify the conversion\n",
    "print(Crime_data['ward_no'].dtypes)"
   ]
  },
  {
   "cell_type": "code",
   "execution_count": 7,
   "id": "db1cdd27-dde7-449d-b105-15764468269b",
   "metadata": {},
   "outputs": [],
   "source": [
    "Crime_data.to_csv(\"DMQL DATA/Crime_data_cleaned.csv\", index=False)"
   ]
  },
  {
   "cell_type": "markdown",
   "id": "10d6e554-b65e-4e48-9e27-34146616939d",
   "metadata": {},
   "source": [
    "Preprocessing of FBI_Code_data"
   ]
  },
  {
   "cell_type": "code",
   "execution_count": 8,
   "id": "9cf0efc2-1708-4333-b779-ae61c24ddb4c",
   "metadata": {},
   "outputs": [
    {
     "data": {
      "text/html": [
       "<div>\n",
       "<style scoped>\n",
       "    .dataframe tbody tr th:only-of-type {\n",
       "        vertical-align: middle;\n",
       "    }\n",
       "\n",
       "    .dataframe tbody tr th {\n",
       "        vertical-align: top;\n",
       "    }\n",
       "\n",
       "    .dataframe thead th {\n",
       "        text-align: right;\n",
       "    }\n",
       "</style>\n",
       "<table border=\"1\" class=\"dataframe\">\n",
       "  <thead>\n",
       "    <tr style=\"text-align: right;\">\n",
       "      <th></th>\n",
       "      <th>fbi_code_no</th>\n",
       "      <th>title</th>\n",
       "      <th>description</th>\n",
       "      <th>crime_against</th>\n",
       "    </tr>\n",
       "  </thead>\n",
       "  <tbody>\n",
       "    <tr>\n",
       "      <th>0</th>\n",
       "      <td>01A</td>\n",
       "      <td>Homicide 1st &amp; 2nd Degree</td>\n",
       "      <td>The killing of one human being by another.</td>\n",
       "      <td>Persons</td>\n",
       "    </tr>\n",
       "    <tr>\n",
       "      <th>1</th>\n",
       "      <td>01B</td>\n",
       "      <td>Involuntary Manslaughter</td>\n",
       "      <td>The killing of another person through negligence.</td>\n",
       "      <td>Persons</td>\n",
       "    </tr>\n",
       "    <tr>\n",
       "      <th>2</th>\n",
       "      <td>2</td>\n",
       "      <td>Criminal Sexual Assault</td>\n",
       "      <td>Any sexual act directed against another person...</td>\n",
       "      <td>Persons</td>\n",
       "    </tr>\n",
       "    <tr>\n",
       "      <th>3</th>\n",
       "      <td>3</td>\n",
       "      <td>Robbery</td>\n",
       "      <td>The taking or attempting to take anything of v...</td>\n",
       "      <td>Property</td>\n",
       "    </tr>\n",
       "    <tr>\n",
       "      <th>4</th>\n",
       "      <td>04A</td>\n",
       "      <td>Aggravated Assault</td>\n",
       "      <td>An unlawful attack by one person upon another ...</td>\n",
       "      <td>Persons</td>\n",
       "    </tr>\n",
       "  </tbody>\n",
       "</table>\n",
       "</div>"
      ],
      "text/plain": [
       "  fbi_code_no                      title  \\\n",
       "0         01A  Homicide 1st & 2nd Degree   \n",
       "1         01B   Involuntary Manslaughter   \n",
       "2           2    Criminal Sexual Assault   \n",
       "3           3                    Robbery   \n",
       "4         04A         Aggravated Assault   \n",
       "\n",
       "                                         description crime_against  \n",
       "0         The killing of one human being by another.       Persons  \n",
       "1  The killing of another person through negligence.       Persons  \n",
       "2  Any sexual act directed against another person...       Persons  \n",
       "3  The taking or attempting to take anything of v...      Property  \n",
       "4  An unlawful attack by one person upon another ...       Persons  "
      ]
     },
     "execution_count": 8,
     "metadata": {},
     "output_type": "execute_result"
    }
   ],
   "source": [
    "FBI_Code_data = pd.read_csv(\"DMQL DATA/FBI_Code.CSV\")\n",
    "FBI_Code_data.head()"
   ]
  },
  {
   "cell_type": "code",
   "execution_count": 9,
   "id": "3666a1cb-ed0b-412d-933b-8e69d742c77c",
   "metadata": {},
   "outputs": [
    {
     "name": "stdout",
     "output_type": "stream",
     "text": [
      "<class 'pandas.core.frame.DataFrame'>\n",
      "RangeIndex: 26 entries, 0 to 25\n",
      "Data columns (total 4 columns):\n",
      " #   Column         Non-Null Count  Dtype \n",
      "---  ------         --------------  ----- \n",
      " 0   fbi_code_no    26 non-null     object\n",
      " 1   title          26 non-null     object\n",
      " 2   description    26 non-null     object\n",
      " 3   crime_against  26 non-null     object\n",
      "dtypes: object(4)\n",
      "memory usage: 964.0+ bytes\n"
     ]
    }
   ],
   "source": [
    "FBI_Code_data.info()"
   ]
  },
  {
   "cell_type": "code",
   "execution_count": 10,
   "id": "2d2be717-1323-4a3c-9835-bc3f33121b6b",
   "metadata": {},
   "outputs": [
    {
     "data": {
      "text/plain": [
       "fbi_code_no      0\n",
       "title            0\n",
       "description      0\n",
       "crime_against    0\n",
       "dtype: int64"
      ]
     },
     "execution_count": 10,
     "metadata": {},
     "output_type": "execute_result"
    }
   ],
   "source": [
    "FBI_Code_data.isna().sum()"
   ]
  },
  {
   "cell_type": "markdown",
   "id": "e6dbcfcb-c1b2-415c-8da6-1f41f2135c36",
   "metadata": {},
   "source": [
    "Preprocessing of Community Area"
   ]
  },
  {
   "cell_type": "code",
   "execution_count": 11,
   "id": "604e3a50-dca8-4a62-96bb-3bd42f7798c8",
   "metadata": {},
   "outputs": [
    {
     "data": {
      "text/html": [
       "<div>\n",
       "<style scoped>\n",
       "    .dataframe tbody tr th:only-of-type {\n",
       "        vertical-align: middle;\n",
       "    }\n",
       "\n",
       "    .dataframe tbody tr th {\n",
       "        vertical-align: top;\n",
       "    }\n",
       "\n",
       "    .dataframe thead th {\n",
       "        text-align: right;\n",
       "    }\n",
       "</style>\n",
       "<table border=\"1\" class=\"dataframe\">\n",
       "  <thead>\n",
       "    <tr style=\"text-align: right;\">\n",
       "      <th></th>\n",
       "      <th>community_area_no</th>\n",
       "      <th>community_area_name</th>\n",
       "      <th>side</th>\n",
       "      <th>population</th>\n",
       "    </tr>\n",
       "  </thead>\n",
       "  <tbody>\n",
       "    <tr>\n",
       "      <th>0</th>\n",
       "      <td>1</td>\n",
       "      <td>Rogers Park</td>\n",
       "      <td>Far North Side</td>\n",
       "      <td>54,991</td>\n",
       "    </tr>\n",
       "    <tr>\n",
       "      <th>1</th>\n",
       "      <td>2</td>\n",
       "      <td>West Ridge</td>\n",
       "      <td>Far North Side</td>\n",
       "      <td>71,942</td>\n",
       "    </tr>\n",
       "    <tr>\n",
       "      <th>2</th>\n",
       "      <td>3</td>\n",
       "      <td>Uptown</td>\n",
       "      <td>Far North Side</td>\n",
       "      <td>56,362</td>\n",
       "    </tr>\n",
       "    <tr>\n",
       "      <th>3</th>\n",
       "      <td>4</td>\n",
       "      <td>Lincoln Square</td>\n",
       "      <td>Far North Side</td>\n",
       "      <td>39,493</td>\n",
       "    </tr>\n",
       "    <tr>\n",
       "      <th>4</th>\n",
       "      <td>5</td>\n",
       "      <td>North Center</td>\n",
       "      <td>North Side</td>\n",
       "      <td>31,867</td>\n",
       "    </tr>\n",
       "  </tbody>\n",
       "</table>\n",
       "</div>"
      ],
      "text/plain": [
       "   community_area_no community_area_name            side population\n",
       "0                  1         Rogers Park  Far North Side     54,991\n",
       "1                  2          West Ridge  Far North Side     71,942\n",
       "2                  3              Uptown  Far North Side     56,362\n",
       "3                  4      Lincoln Square  Far North Side     39,493\n",
       "4                  5        North Center      North Side     31,867"
      ]
     },
     "execution_count": 11,
     "metadata": {},
     "output_type": "execute_result"
    }
   ],
   "source": [
    "CA_data = pd.read_csv(\"DMQL DATA/Community_Area.csv\")\n",
    "CA_data.head()"
   ]
  },
  {
   "cell_type": "code",
   "execution_count": 12,
   "id": "66dbd7a2-b921-4c37-b2d1-cc187c755ca4",
   "metadata": {},
   "outputs": [],
   "source": [
    "# Remove commas from the 'numbers' column\n",
    "CA_data['population'] = CA_data['population'].str.replace(',', '', regex=False)\n",
    "# Convert to integer type if needed\n",
    "CA_data['population'] = CA_data['population'].astype(int)"
   ]
  },
  {
   "cell_type": "code",
   "execution_count": 13,
   "id": "b5b192c3-bd2e-4526-98e2-900aa233aab5",
   "metadata": {},
   "outputs": [
    {
     "data": {
      "text/plain": [
       "side\n",
       "Far North Side        12\n",
       "South Side            12\n",
       "Far Southeast Side    12\n",
       "Southwest Side        12\n",
       "West Side              9\n",
       "Northwest Side         6\n",
       "Far Southwest Side     6\n",
       "North Side             5\n",
       "Central                3\n",
       "Name: count, dtype: int64"
      ]
     },
     "execution_count": 13,
     "metadata": {},
     "output_type": "execute_result"
    }
   ],
   "source": [
    "CA_data['side'].value_counts()"
   ]
  },
  {
   "cell_type": "code",
   "execution_count": 14,
   "id": "b661da3c-62bb-4dba-8a8f-9fb7c5bc129f",
   "metadata": {},
   "outputs": [
    {
     "name": "stdout",
     "output_type": "stream",
     "text": [
      "<class 'pandas.core.frame.DataFrame'>\n",
      "RangeIndex: 77 entries, 0 to 76\n",
      "Data columns (total 4 columns):\n",
      " #   Column               Non-Null Count  Dtype \n",
      "---  ------               --------------  ----- \n",
      " 0   community_area_no    77 non-null     int64 \n",
      " 1   community_area_name  77 non-null     object\n",
      " 2   side                 77 non-null     object\n",
      " 3   population           77 non-null     int64 \n",
      "dtypes: int64(2), object(2)\n",
      "memory usage: 2.5+ KB\n"
     ]
    }
   ],
   "source": [
    "CA_data.info()"
   ]
  },
  {
   "cell_type": "code",
   "execution_count": 15,
   "id": "69a3ccdb-9c5b-4fac-bd78-20dc7abf5d91",
   "metadata": {},
   "outputs": [
    {
     "data": {
      "text/plain": [
       "community_area_no      0\n",
       "community_area_name    0\n",
       "side                   0\n",
       "population             0\n",
       "dtype: int64"
      ]
     },
     "execution_count": 15,
     "metadata": {},
     "output_type": "execute_result"
    }
   ],
   "source": [
    "CA_data.isna().sum()"
   ]
  },
  {
   "cell_type": "code",
   "execution_count": 16,
   "id": "09ab6dd9-abad-4fe2-a15c-a2ad47b486c3",
   "metadata": {},
   "outputs": [],
   "source": [
    "# loading the data to csv for further use\n",
    "CA_data.to_csv('DMQL DATA/Community_Area_Cleaned.csv', index=False)"
   ]
  },
  {
   "cell_type": "markdown",
   "id": "743af903-574f-478f-b2f1-741272869d4b",
   "metadata": {},
   "source": [
    "Preprocessing the district data"
   ]
  },
  {
   "cell_type": "code",
   "execution_count": 17,
   "id": "eaae7588-b5f3-4bf5-9068-7526e198cdac",
   "metadata": {},
   "outputs": [
    {
     "data": {
      "text/html": [
       "<div>\n",
       "<style scoped>\n",
       "    .dataframe tbody tr th:only-of-type {\n",
       "        vertical-align: middle;\n",
       "    }\n",
       "\n",
       "    .dataframe tbody tr th {\n",
       "        vertical-align: top;\n",
       "    }\n",
       "\n",
       "    .dataframe thead th {\n",
       "        text-align: right;\n",
       "    }\n",
       "</style>\n",
       "<table border=\"1\" class=\"dataframe\">\n",
       "  <thead>\n",
       "    <tr style=\"text-align: right;\">\n",
       "      <th></th>\n",
       "      <th>district_no</th>\n",
       "      <th>district_name</th>\n",
       "      <th>address</th>\n",
       "      <th>zip_code</th>\n",
       "      <th>commander</th>\n",
       "      <th>email</th>\n",
       "      <th>phone</th>\n",
       "      <th>fax</th>\n",
       "      <th>tty</th>\n",
       "      <th>twitter</th>\n",
       "    </tr>\n",
       "  </thead>\n",
       "  <tbody>\n",
       "    <tr>\n",
       "      <th>0</th>\n",
       "      <td>1</td>\n",
       "      <td>Central</td>\n",
       "      <td>1718 South State Street</td>\n",
       "      <td>60616</td>\n",
       "      <td>Jake M. Alderden</td>\n",
       "      <td>CAPS001District@chicagopolice.org</td>\n",
       "      <td>312-745-4290</td>\n",
       "      <td>312-745-3694</td>\n",
       "      <td>312-745-3693</td>\n",
       "      <td>ChicagoCAPS01</td>\n",
       "    </tr>\n",
       "    <tr>\n",
       "      <th>1</th>\n",
       "      <td>4</td>\n",
       "      <td>South Chicago</td>\n",
       "      <td>2255 East 103rd St</td>\n",
       "      <td>60617</td>\n",
       "      <td>Robert A. Rubio</td>\n",
       "      <td>caps.004district@chicagopolice.org</td>\n",
       "      <td>312-747-8205</td>\n",
       "      <td>312-747-4559</td>\n",
       "      <td>312-747-9169</td>\n",
       "      <td>ChicagoCAPS04</td>\n",
       "    </tr>\n",
       "    <tr>\n",
       "      <th>2</th>\n",
       "      <td>5</td>\n",
       "      <td>Calumet</td>\n",
       "      <td>727 East 111th St</td>\n",
       "      <td>60628</td>\n",
       "      <td>Glenn White</td>\n",
       "      <td>CAPS005District@chicagopolice.org</td>\n",
       "      <td>312-747-8210</td>\n",
       "      <td>312-747-5935</td>\n",
       "      <td>312-747-9170</td>\n",
       "      <td>ChicagoCAPS05</td>\n",
       "    </tr>\n",
       "    <tr>\n",
       "      <th>3</th>\n",
       "      <td>6</td>\n",
       "      <td>Gresham</td>\n",
       "      <td>7808 South Halsted Street</td>\n",
       "      <td>60620</td>\n",
       "      <td>Rahman S. Muhammad</td>\n",
       "      <td>CAPS006District@chicagopolice.org</td>\n",
       "      <td>312-745-3610</td>\n",
       "      <td>312-745-3649</td>\n",
       "      <td>312-745-3639</td>\n",
       "      <td>ChicagoCAPS06</td>\n",
       "    </tr>\n",
       "    <tr>\n",
       "      <th>4</th>\n",
       "      <td>7</td>\n",
       "      <td>Englewood</td>\n",
       "      <td>1438 W. 63rd Street</td>\n",
       "      <td>60636</td>\n",
       "      <td>Larry Snelling</td>\n",
       "      <td>CAPS007District@chicagopolice.org</td>\n",
       "      <td>312-747-8220</td>\n",
       "      <td>312-747-6558</td>\n",
       "      <td>312-747-6652</td>\n",
       "      <td>ChicagoCAPS07</td>\n",
       "    </tr>\n",
       "  </tbody>\n",
       "</table>\n",
       "</div>"
      ],
      "text/plain": [
       "   district_no  district_name                    address  zip_code  \\\n",
       "0            1        Central    1718 South State Street     60616   \n",
       "1            4  South Chicago         2255 East 103rd St     60617   \n",
       "2            5        Calumet          727 East 111th St     60628   \n",
       "3            6        Gresham  7808 South Halsted Street     60620   \n",
       "4            7      Englewood        1438 W. 63rd Street     60636   \n",
       "\n",
       "            commander                                email         phone  \\\n",
       "0    Jake M. Alderden    CAPS001District@chicagopolice.org  312-745-4290   \n",
       "1     Robert A. Rubio   caps.004district@chicagopolice.org  312-747-8205   \n",
       "2         Glenn White    CAPS005District@chicagopolice.org  312-747-8210   \n",
       "3  Rahman S. Muhammad    CAPS006District@chicagopolice.org  312-745-3610   \n",
       "4      Larry Snelling    CAPS007District@chicagopolice.org  312-747-8220   \n",
       "\n",
       "            fax           tty         twitter  \n",
       "0  312-745-3694  312-745-3693   ChicagoCAPS01  \n",
       "1  312-747-4559  312-747-9169   ChicagoCAPS04  \n",
       "2  312-747-5935  312-747-9170   ChicagoCAPS05  \n",
       "3  312-745-3649  312-745-3639   ChicagoCAPS06  \n",
       "4  312-747-6558  312-747-6652   ChicagoCAPS07  "
      ]
     },
     "execution_count": 17,
     "metadata": {},
     "output_type": "execute_result"
    }
   ],
   "source": [
    "Dist_data = pd.read_csv(\"DMQL DATA/District.csv\")\n",
    "Dist_data.head()"
   ]
  },
  {
   "cell_type": "code",
   "execution_count": 18,
   "id": "c21ed886-e34c-4acd-b08e-672828331bdf",
   "metadata": {},
   "outputs": [
    {
     "name": "stdout",
     "output_type": "stream",
     "text": [
      "<class 'pandas.core.frame.DataFrame'>\n",
      "RangeIndex: 22 entries, 0 to 21\n",
      "Data columns (total 10 columns):\n",
      " #   Column         Non-Null Count  Dtype \n",
      "---  ------         --------------  ----- \n",
      " 0   district_no    22 non-null     int64 \n",
      " 1   district_name  22 non-null     object\n",
      " 2   address        22 non-null     object\n",
      " 3   zip_code       22 non-null     int64 \n",
      " 4   commander      22 non-null     object\n",
      " 5   email          22 non-null     object\n",
      " 6   phone          22 non-null     object\n",
      " 7   fax            22 non-null     object\n",
      " 8   tty            21 non-null     object\n",
      " 9   twitter        22 non-null     object\n",
      "dtypes: int64(2), object(8)\n",
      "memory usage: 1.8+ KB\n"
     ]
    }
   ],
   "source": [
    "Dist_data.info()"
   ]
  },
  {
   "cell_type": "code",
   "execution_count": 19,
   "id": "20649919-d243-43ef-9896-5c3682e4cde7",
   "metadata": {},
   "outputs": [
    {
     "data": {
      "text/plain": [
       "district_no      0\n",
       "district_name    0\n",
       "address          0\n",
       "zip_code         0\n",
       "commander        0\n",
       "email            0\n",
       "phone            0\n",
       "fax              0\n",
       "tty              1\n",
       "twitter          0\n",
       "dtype: int64"
      ]
     },
     "execution_count": 19,
     "metadata": {},
     "output_type": "execute_result"
    }
   ],
   "source": [
    "Dist_data.isna().sum()"
   ]
  },
  {
   "cell_type": "code",
   "execution_count": 20,
   "id": "3fb7a419-422e-4b6f-8d17-ffa4fc76f1fc",
   "metadata": {},
   "outputs": [
    {
     "data": {
      "text/plain": [
       "tty\n",
       "312-745-3693    1\n",
       "312-747-9169    1\n",
       "312-747-9170    1\n",
       "312-745-3639    1\n",
       "312-747-6652    1\n",
       "312-747-6656    1\n",
       "312-747-9168    1\n",
       "312-747-8116    1\n",
       "312-747-9172    1\n",
       "312-747-7471    1\n",
       "312-746-5151    1\n",
       "312-746-9868    1\n",
       "NaN             1\n",
       "312-743-1485    1\n",
       "312-742-4423    1\n",
       "312-742-5451    1\n",
       "312-742-5773    1\n",
       "312-744-8011    1\n",
       "312-742-8841    1\n",
       "312-745-0569    1\n",
       "312-744-7603    1\n",
       "312-746-8383    1\n",
       "Name: count, dtype: int64"
      ]
     },
     "execution_count": 20,
     "metadata": {},
     "output_type": "execute_result"
    }
   ],
   "source": [
    "Dist_data['tty'].value_counts(dropna=False)"
   ]
  },
  {
   "cell_type": "code",
   "execution_count": 21,
   "id": "cb5660ed-39a0-4ea6-913f-dbf013bb725f",
   "metadata": {},
   "outputs": [],
   "source": [
    "Dist_data.to_csv('DMQL DATA/District_Cleaned.csv', index=False)"
   ]
  },
  {
   "cell_type": "markdown",
   "id": "0dbd1252-cd1e-4ef8-9e46-ed73aac9f157",
   "metadata": {},
   "source": [
    "Preprocessing the IUCR Data"
   ]
  },
  {
   "cell_type": "code",
   "execution_count": 22,
   "id": "b3e6911f-b621-462f-a6f0-633b38abdd8f",
   "metadata": {},
   "outputs": [
    {
     "data": {
      "text/html": [
       "<div>\n",
       "<style scoped>\n",
       "    .dataframe tbody tr th:only-of-type {\n",
       "        vertical-align: middle;\n",
       "    }\n",
       "\n",
       "    .dataframe tbody tr th {\n",
       "        vertical-align: top;\n",
       "    }\n",
       "\n",
       "    .dataframe thead th {\n",
       "        text-align: right;\n",
       "    }\n",
       "</style>\n",
       "<table border=\"1\" class=\"dataframe\">\n",
       "  <thead>\n",
       "    <tr style=\"text-align: right;\">\n",
       "      <th></th>\n",
       "      <th>iucr_no</th>\n",
       "      <th>primary_description</th>\n",
       "      <th>secondary_description</th>\n",
       "      <th>index_code</th>\n",
       "    </tr>\n",
       "  </thead>\n",
       "  <tbody>\n",
       "    <tr>\n",
       "      <th>0</th>\n",
       "      <td>110</td>\n",
       "      <td>HOMICIDE</td>\n",
       "      <td>FIRST DEGREE MURDER</td>\n",
       "      <td>I</td>\n",
       "    </tr>\n",
       "    <tr>\n",
       "      <th>1</th>\n",
       "      <td>130</td>\n",
       "      <td>HOMICIDE</td>\n",
       "      <td>SECOND DEGREE MURDER</td>\n",
       "      <td>I</td>\n",
       "    </tr>\n",
       "    <tr>\n",
       "      <th>2</th>\n",
       "      <td>141</td>\n",
       "      <td>HOMICIDE</td>\n",
       "      <td>INVOLUNTARY MANSLAUGHTER</td>\n",
       "      <td>N</td>\n",
       "    </tr>\n",
       "    <tr>\n",
       "      <th>3</th>\n",
       "      <td>041A</td>\n",
       "      <td>BATTERY</td>\n",
       "      <td>AGGRAVATED: HANDGUN</td>\n",
       "      <td>I</td>\n",
       "    </tr>\n",
       "    <tr>\n",
       "      <th>4</th>\n",
       "      <td>041B</td>\n",
       "      <td>BATTERY</td>\n",
       "      <td>AGGRAVATED: OTHER FIREARM</td>\n",
       "      <td>I</td>\n",
       "    </tr>\n",
       "  </tbody>\n",
       "</table>\n",
       "</div>"
      ],
      "text/plain": [
       "  iucr_no primary_description      secondary_description index_code\n",
       "0     110            HOMICIDE        FIRST DEGREE MURDER          I\n",
       "1     130            HOMICIDE       SECOND DEGREE MURDER          I\n",
       "2     141            HOMICIDE   INVOLUNTARY MANSLAUGHTER          N\n",
       "3    041A             BATTERY        AGGRAVATED: HANDGUN          I\n",
       "4    041B             BATTERY  AGGRAVATED: OTHER FIREARM          I"
      ]
     },
     "execution_count": 22,
     "metadata": {},
     "output_type": "execute_result"
    }
   ],
   "source": [
    "IUCR_data = pd.read_csv(\"DMQL DATA/IUCR.csv\")\n",
    "IUCR_data.head()"
   ]
  },
  {
   "cell_type": "code",
   "execution_count": 23,
   "id": "e3e5ac36-bdb4-4dab-af8f-a068ded85458",
   "metadata": {},
   "outputs": [
    {
     "name": "stdout",
     "output_type": "stream",
     "text": [
      "<class 'pandas.core.frame.DataFrame'>\n",
      "RangeIndex: 401 entries, 0 to 400\n",
      "Data columns (total 4 columns):\n",
      " #   Column                 Non-Null Count  Dtype \n",
      "---  ------                 --------------  ----- \n",
      " 0   iucr_no                401 non-null    object\n",
      " 1   primary_description    401 non-null    object\n",
      " 2   secondary_description  401 non-null    object\n",
      " 3   index_code             401 non-null    object\n",
      "dtypes: object(4)\n",
      "memory usage: 12.7+ KB\n"
     ]
    }
   ],
   "source": [
    "IUCR_data.info()"
   ]
  },
  {
   "cell_type": "code",
   "execution_count": 24,
   "id": "aacafacb-127f-4729-976e-7e6e669e239f",
   "metadata": {},
   "outputs": [
    {
     "data": {
      "text/plain": [
       "iucr_no                  0\n",
       "primary_description      0\n",
       "secondary_description    0\n",
       "index_code               0\n",
       "dtype: int64"
      ]
     },
     "execution_count": 24,
     "metadata": {},
     "output_type": "execute_result"
    }
   ],
   "source": [
    "IUCR_data.isna().sum()"
   ]
  },
  {
   "cell_type": "markdown",
   "id": "ae81c32d-14d0-4767-8667-48cef0ee71e7",
   "metadata": {},
   "source": [
    "Preprocessing the Neighborhood_data"
   ]
  },
  {
   "cell_type": "code",
   "execution_count": 25,
   "id": "ea4dd360-117a-4eb6-bedf-dc54348e25ba",
   "metadata": {},
   "outputs": [
    {
     "data": {
      "text/html": [
       "<div>\n",
       "<style scoped>\n",
       "    .dataframe tbody tr th:only-of-type {\n",
       "        vertical-align: middle;\n",
       "    }\n",
       "\n",
       "    .dataframe tbody tr th {\n",
       "        vertical-align: top;\n",
       "    }\n",
       "\n",
       "    .dataframe thead th {\n",
       "        text-align: right;\n",
       "    }\n",
       "</style>\n",
       "<table border=\"1\" class=\"dataframe\">\n",
       "  <thead>\n",
       "    <tr style=\"text-align: right;\">\n",
       "      <th></th>\n",
       "      <th>neighborhood_name</th>\n",
       "      <th>community_area_no</th>\n",
       "    </tr>\n",
       "  </thead>\n",
       "  <tbody>\n",
       "    <tr>\n",
       "      <th>0</th>\n",
       "      <td>Albany Park</td>\n",
       "      <td>14</td>\n",
       "    </tr>\n",
       "    <tr>\n",
       "      <th>1</th>\n",
       "      <td>Altgeld Gardens</td>\n",
       "      <td>54</td>\n",
       "    </tr>\n",
       "    <tr>\n",
       "      <th>2</th>\n",
       "      <td>Andersonville</td>\n",
       "      <td>77</td>\n",
       "    </tr>\n",
       "    <tr>\n",
       "      <th>3</th>\n",
       "      <td>Archer Heights</td>\n",
       "      <td>57</td>\n",
       "    </tr>\n",
       "    <tr>\n",
       "      <th>4</th>\n",
       "      <td>Armour Square</td>\n",
       "      <td>34</td>\n",
       "    </tr>\n",
       "  </tbody>\n",
       "</table>\n",
       "</div>"
      ],
      "text/plain": [
       "  neighborhood_name  community_area_no\n",
       "0       Albany Park                 14\n",
       "1   Altgeld Gardens                 54\n",
       "2     Andersonville                 77\n",
       "3    Archer Heights                 57\n",
       "4     Armour Square                 34"
      ]
     },
     "execution_count": 25,
     "metadata": {},
     "output_type": "execute_result"
    }
   ],
   "source": [
    "Neighborhood_data = pd.read_csv(\"DMQL DATA/Neighborhood.csv\")\n",
    "Neighborhood_data.head()"
   ]
  },
  {
   "cell_type": "code",
   "execution_count": 26,
   "id": "384d720f-b75a-4c0b-9aac-1570f1e209d2",
   "metadata": {},
   "outputs": [
    {
     "data": {
      "text/plain": [
       "neighborhood_name    0\n",
       "community_area_no    0\n",
       "dtype: int64"
      ]
     },
     "execution_count": 26,
     "metadata": {},
     "output_type": "execute_result"
    }
   ],
   "source": [
    "Neighborhood_data.isna().sum()"
   ]
  },
  {
   "cell_type": "code",
   "execution_count": 27,
   "id": "66127a5c-7f11-42f7-a875-21094a68fce4",
   "metadata": {},
   "outputs": [
    {
     "name": "stdout",
     "output_type": "stream",
     "text": [
      "<class 'pandas.core.frame.DataFrame'>\n",
      "RangeIndex: 246 entries, 0 to 245\n",
      "Data columns (total 2 columns):\n",
      " #   Column             Non-Null Count  Dtype \n",
      "---  ------             --------------  ----- \n",
      " 0   neighborhood_name  246 non-null    object\n",
      " 1   community_area_no  246 non-null    int64 \n",
      "dtypes: int64(1), object(1)\n",
      "memory usage: 4.0+ KB\n"
     ]
    }
   ],
   "source": [
    "Neighborhood_data.info()"
   ]
  },
  {
   "cell_type": "markdown",
   "id": "684d2627-afc6-49ce-b361-a865a92c0811",
   "metadata": {},
   "source": [
    "Preprocessing of ward_data "
   ]
  },
  {
   "cell_type": "code",
   "execution_count": 28,
   "id": "1b3163c6-8962-4380-9499-6264b18c7b6b",
   "metadata": {},
   "outputs": [
    {
     "data": {
      "text/html": [
       "<div>\n",
       "<style scoped>\n",
       "    .dataframe tbody tr th:only-of-type {\n",
       "        vertical-align: middle;\n",
       "    }\n",
       "\n",
       "    .dataframe tbody tr th {\n",
       "        vertical-align: top;\n",
       "    }\n",
       "\n",
       "    .dataframe thead th {\n",
       "        text-align: right;\n",
       "    }\n",
       "</style>\n",
       "<table border=\"1\" class=\"dataframe\">\n",
       "  <thead>\n",
       "    <tr style=\"text-align: right;\">\n",
       "      <th></th>\n",
       "      <th>ward_no</th>\n",
       "      <th>alderman_first_name</th>\n",
       "      <th>alderman_last_name</th>\n",
       "      <th>alderman_name_suffix</th>\n",
       "      <th>ward_office_address</th>\n",
       "      <th>ward_office_zip</th>\n",
       "      <th>ward_email</th>\n",
       "      <th>ward_office_phone</th>\n",
       "      <th>ward_office_fax</th>\n",
       "      <th>city_hall_office_room</th>\n",
       "      <th>city_hall_office_phone</th>\n",
       "      <th>city_hall_office_fax</th>\n",
       "      <th>Population</th>\n",
       "    </tr>\n",
       "  </thead>\n",
       "  <tbody>\n",
       "    <tr>\n",
       "      <th>0</th>\n",
       "      <td>1</td>\n",
       "      <td>Daniel</td>\n",
       "      <td>La Spata</td>\n",
       "      <td>NaN</td>\n",
       "      <td>1958 N. Milwaukee Ave.</td>\n",
       "      <td>60647</td>\n",
       "      <td>info@the1stward.com</td>\n",
       "      <td>872.206.2685</td>\n",
       "      <td>312.448.8829</td>\n",
       "      <td>200</td>\n",
       "      <td>NaN</td>\n",
       "      <td>NaN</td>\n",
       "      <td>56149</td>\n",
       "    </tr>\n",
       "    <tr>\n",
       "      <th>1</th>\n",
       "      <td>2</td>\n",
       "      <td>Brian</td>\n",
       "      <td>Hopkins</td>\n",
       "      <td>NaN</td>\n",
       "      <td>1400 N. Ashland</td>\n",
       "      <td>60622</td>\n",
       "      <td>ward02@cityofchicago.org</td>\n",
       "      <td>312.643.2299</td>\n",
       "      <td>NaN</td>\n",
       "      <td>200</td>\n",
       "      <td>312.744.6836</td>\n",
       "      <td>NaN</td>\n",
       "      <td>55805</td>\n",
       "    </tr>\n",
       "    <tr>\n",
       "      <th>2</th>\n",
       "      <td>3</td>\n",
       "      <td>Pat</td>\n",
       "      <td>Dowell</td>\n",
       "      <td>NaN</td>\n",
       "      <td>5046 S. State St.</td>\n",
       "      <td>60609</td>\n",
       "      <td>ward03@cityofchicago.org</td>\n",
       "      <td>773.373.9273</td>\n",
       "      <td>NaN</td>\n",
       "      <td>200</td>\n",
       "      <td>312.744.8734</td>\n",
       "      <td>312.744.6712</td>\n",
       "      <td>53039</td>\n",
       "    </tr>\n",
       "    <tr>\n",
       "      <th>3</th>\n",
       "      <td>4</td>\n",
       "      <td>Sophia</td>\n",
       "      <td>King</td>\n",
       "      <td>NaN</td>\n",
       "      <td>435 E. 35th Street</td>\n",
       "      <td>60616</td>\n",
       "      <td>ward04@cityofchicago.org</td>\n",
       "      <td>773.536.8103</td>\n",
       "      <td>773.536.7296</td>\n",
       "      <td>305</td>\n",
       "      <td>312.744.2690</td>\n",
       "      <td>312.744.7738</td>\n",
       "      <td>54589</td>\n",
       "    </tr>\n",
       "    <tr>\n",
       "      <th>4</th>\n",
       "      <td>5</td>\n",
       "      <td>Leslie</td>\n",
       "      <td>Hairston</td>\n",
       "      <td>NaN</td>\n",
       "      <td>2325 E. 71st Street</td>\n",
       "      <td>60649</td>\n",
       "      <td>ward05@cityofchicago.org</td>\n",
       "      <td>773.324.5555</td>\n",
       "      <td>773.324.1585</td>\n",
       "      <td>300</td>\n",
       "      <td>312.744.6832</td>\n",
       "      <td>312.744.3195</td>\n",
       "      <td>51455</td>\n",
       "    </tr>\n",
       "  </tbody>\n",
       "</table>\n",
       "</div>"
      ],
      "text/plain": [
       "   ward_no alderman_first_name alderman_last_name alderman_name_suffix  \\\n",
       "0        1              Daniel           La Spata                  NaN   \n",
       "1        2               Brian            Hopkins                  NaN   \n",
       "2        3                 Pat             Dowell                  NaN   \n",
       "3        4              Sophia               King                  NaN   \n",
       "4        5              Leslie           Hairston                  NaN   \n",
       "\n",
       "      ward_office_address ward_office_zip                ward_email  \\\n",
       "0  1958 N. Milwaukee Ave.           60647       info@the1stward.com   \n",
       "1         1400 N. Ashland           60622  ward02@cityofchicago.org   \n",
       "2       5046 S. State St.           60609  ward03@cityofchicago.org   \n",
       "3      435 E. 35th Street           60616  ward04@cityofchicago.org   \n",
       "4     2325 E. 71st Street           60649  ward05@cityofchicago.org   \n",
       "\n",
       "  ward_office_phone ward_office_fax  city_hall_office_room  \\\n",
       "0      872.206.2685    312.448.8829                    200   \n",
       "1      312.643.2299             NaN                    200   \n",
       "2      773.373.9273             NaN                    200   \n",
       "3      773.536.8103    773.536.7296                    305   \n",
       "4      773.324.5555    773.324.1585                    300   \n",
       "\n",
       "  city_hall_office_phone city_hall_office_fax  Population  \n",
       "0                    NaN                  NaN       56149  \n",
       "1           312.744.6836                  NaN       55805  \n",
       "2           312.744.8734         312.744.6712       53039  \n",
       "3           312.744.2690         312.744.7738       54589  \n",
       "4           312.744.6832         312.744.3195       51455  "
      ]
     },
     "execution_count": 28,
     "metadata": {},
     "output_type": "execute_result"
    }
   ],
   "source": [
    "ward_data = pd.read_csv(\"DMQL DATA/Ward.csv\")\n",
    "ward_data.head()"
   ]
  },
  {
   "cell_type": "code",
   "execution_count": 29,
   "id": "95bef27a-15ee-40f7-a2f8-b7b85bc6fa52",
   "metadata": {},
   "outputs": [
    {
     "name": "stdout",
     "output_type": "stream",
     "text": [
      "(50, 13)\n",
      "<class 'pandas.core.frame.DataFrame'>\n",
      "RangeIndex: 50 entries, 0 to 49\n",
      "Data columns (total 13 columns):\n",
      " #   Column                  Non-Null Count  Dtype \n",
      "---  ------                  --------------  ----- \n",
      " 0   ward_no                 50 non-null     int64 \n",
      " 1   alderman_first_name     50 non-null     object\n",
      " 2   alderman_last_name      50 non-null     object\n",
      " 3   alderman_name_suffix    5 non-null      object\n",
      " 4   ward_office_address     49 non-null     object\n",
      " 5   ward_office_zip         49 non-null     object\n",
      " 6   ward_email              45 non-null     object\n",
      " 7   ward_office_phone       47 non-null     object\n",
      " 8   ward_office_fax         22 non-null     object\n",
      " 9   city_hall_office_room   50 non-null     int64 \n",
      " 10  city_hall_office_phone  38 non-null     object\n",
      " 11  city_hall_office_fax    27 non-null     object\n",
      " 12  Population              50 non-null     int64 \n",
      "dtypes: int64(3), object(10)\n",
      "memory usage: 5.2+ KB\n"
     ]
    }
   ],
   "source": [
    "print(ward_data.shape)\n",
    "ward_data.info()"
   ]
  },
  {
   "cell_type": "code",
   "execution_count": 30,
   "id": "87903855-789a-42f8-89e9-6ea780ea655a",
   "metadata": {},
   "outputs": [
    {
     "data": {
      "text/plain": [
       "ward_no                    0\n",
       "alderman_first_name        0\n",
       "alderman_last_name         0\n",
       "alderman_name_suffix      45\n",
       "ward_office_address        1\n",
       "ward_office_zip            1\n",
       "ward_email                 5\n",
       "ward_office_phone          3\n",
       "ward_office_fax           28\n",
       "city_hall_office_room      0\n",
       "city_hall_office_phone    12\n",
       "city_hall_office_fax      23\n",
       "Population                 0\n",
       "dtype: int64"
      ]
     },
     "execution_count": 30,
     "metadata": {},
     "output_type": "execute_result"
    }
   ],
   "source": [
    "ward_data.isna().sum()"
   ]
  },
  {
   "cell_type": "code",
   "execution_count": 31,
   "id": "01a4aaae-9abc-4b49-b7ff-801bedcd84e8",
   "metadata": {},
   "outputs": [
    {
     "data": {
      "text/plain": [
       "alderman_name_suffix\n",
       "NaN    45\n",
       "Jr.     5\n",
       "Name: count, dtype: int64"
      ]
     },
     "execution_count": 31,
     "metadata": {},
     "output_type": "execute_result"
    }
   ],
   "source": [
    "ward_data[\"alderman_name_suffix\"].value_counts(dropna=False)"
   ]
  },
  {
   "cell_type": "code",
   "execution_count": 32,
   "id": "b515b789-686d-48d5-b77f-04b65a87597e",
   "metadata": {},
   "outputs": [
    {
     "data": {
      "text/html": [
       "<div>\n",
       "<style scoped>\n",
       "    .dataframe tbody tr th:only-of-type {\n",
       "        vertical-align: middle;\n",
       "    }\n",
       "\n",
       "    .dataframe tbody tr th {\n",
       "        vertical-align: top;\n",
       "    }\n",
       "\n",
       "    .dataframe thead th {\n",
       "        text-align: right;\n",
       "    }\n",
       "</style>\n",
       "<table border=\"1\" class=\"dataframe\">\n",
       "  <thead>\n",
       "    <tr style=\"text-align: right;\">\n",
       "      <th></th>\n",
       "      <th>ward_no</th>\n",
       "      <th>alderman_first_name</th>\n",
       "      <th>alderman_last_name</th>\n",
       "      <th>alderman_name_suffix</th>\n",
       "      <th>ward_office_address</th>\n",
       "      <th>ward_office_zip</th>\n",
       "      <th>ward_email</th>\n",
       "      <th>ward_office_phone</th>\n",
       "      <th>ward_office_fax</th>\n",
       "      <th>city_hall_office_room</th>\n",
       "      <th>city_hall_office_phone</th>\n",
       "      <th>city_hall_office_fax</th>\n",
       "      <th>Population</th>\n",
       "    </tr>\n",
       "  </thead>\n",
       "  <tbody>\n",
       "    <tr>\n",
       "      <th>44</th>\n",
       "      <td>42</td>\n",
       "      <td>Brendan</td>\n",
       "      <td>Reilly</td>\n",
       "      <td>NaN</td>\n",
       "      <td>NaN</td>\n",
       "      <td>NaN</td>\n",
       "      <td>ward42@cityofchicago.org</td>\n",
       "      <td>312.642.4242</td>\n",
       "      <td>312.642.0420</td>\n",
       "      <td>200</td>\n",
       "      <td>312.744.3062</td>\n",
       "      <td>312.744.3065</td>\n",
       "      <td>55967</td>\n",
       "    </tr>\n",
       "  </tbody>\n",
       "</table>\n",
       "</div>"
      ],
      "text/plain": [
       "    ward_no alderman_first_name alderman_last_name alderman_name_suffix  \\\n",
       "44       42             Brendan             Reilly                  NaN   \n",
       "\n",
       "   ward_office_address ward_office_zip                ward_email  \\\n",
       "44                 NaN             NaN  ward42@cityofchicago.org   \n",
       "\n",
       "   ward_office_phone ward_office_fax  city_hall_office_room  \\\n",
       "44      312.642.4242    312.642.0420                    200   \n",
       "\n",
       "   city_hall_office_phone city_hall_office_fax  Population  \n",
       "44           312.744.3062         312.744.3065       55967  "
      ]
     },
     "execution_count": 32,
     "metadata": {},
     "output_type": "execute_result"
    }
   ],
   "source": [
    "ward_data[ward_data['ward_office_address'].isnull()]"
   ]
  },
  {
   "cell_type": "code",
   "execution_count": 33,
   "id": "e9075cd7-1238-4037-bab6-de9d4e61c80d",
   "metadata": {},
   "outputs": [
    {
     "data": {
      "text/plain": [
       "ward_no                                         42\n",
       "alderman_first_name                        Brendan\n",
       "alderman_last_name                          Reilly\n",
       "alderman_name_suffix                           NaN\n",
       "ward_office_address                            NaN\n",
       "ward_office_zip                                NaN\n",
       "ward_email                ward42@cityofchicago.org\n",
       "ward_office_phone                     312.642.4242\n",
       "ward_office_fax                       312.642.0420\n",
       "city_hall_office_room                          200\n",
       "city_hall_office_phone                312.744.3062\n",
       "city_hall_office_fax                  312.744.3065\n",
       "Population                                   55967\n",
       "Name: 44, dtype: object"
      ]
     },
     "execution_count": 33,
     "metadata": {},
     "output_type": "execute_result"
    }
   ],
   "source": [
    "ward_data.loc[44]"
   ]
  },
  {
   "cell_type": "markdown",
   "id": "7102a0f4-f86b-4cd2-89df-e71d384c4a8c",
   "metadata": {},
   "source": [
    "Filling with domain link = https://www.chicago.gov/city/en/about/wards/42.html"
   ]
  },
  {
   "cell_type": "code",
   "execution_count": 34,
   "id": "c7b0b035-e6f0-4c29-9d9f-2f9a23dbd4ea",
   "metadata": {},
   "outputs": [],
   "source": [
    "ward_data.loc[44] = ward_data.loc[44].fillna({\n",
    "  \"alderman_name_suffix\"  : \"\", # as most people will not have suffix\n",
    "  \"ward_office_zip\" : \"60602\",\n",
    "  \"ward_office_address\" : \"121 N. LaSalle\"\n",
    "})"
   ]
  },
  {
   "cell_type": "code",
   "execution_count": 35,
   "id": "22b0de3a-1422-4187-8f37-512f7b22ca5a",
   "metadata": {},
   "outputs": [],
   "source": [
    "ward_data['alderman_name_suffix'].fillna(\"\", inplace=True)"
   ]
  },
  {
   "cell_type": "code",
   "execution_count": 36,
   "id": "9239d1ad-fee2-4773-b4b1-e7fb7ff4f689",
   "metadata": {},
   "outputs": [
    {
     "name": "stdout",
     "output_type": "stream",
     "text": [
      "<class 'pandas.core.frame.DataFrame'>\n",
      "RangeIndex: 50 entries, 0 to 49\n",
      "Data columns (total 13 columns):\n",
      " #   Column                  Non-Null Count  Dtype \n",
      "---  ------                  --------------  ----- \n",
      " 0   ward_no                 50 non-null     int64 \n",
      " 1   alderman_first_name     50 non-null     object\n",
      " 2   alderman_last_name      50 non-null     object\n",
      " 3   alderman_name_suffix    50 non-null     object\n",
      " 4   ward_office_address     50 non-null     object\n",
      " 5   ward_office_zip         50 non-null     object\n",
      " 6   ward_email              45 non-null     object\n",
      " 7   ward_office_phone       47 non-null     object\n",
      " 8   ward_office_fax         22 non-null     object\n",
      " 9   city_hall_office_room   50 non-null     int64 \n",
      " 10  city_hall_office_phone  38 non-null     object\n",
      " 11  city_hall_office_fax    27 non-null     object\n",
      " 12  Population              50 non-null     int64 \n",
      "dtypes: int64(3), object(10)\n",
      "memory usage: 5.2+ KB\n"
     ]
    }
   ],
   "source": [
    "ward_data.info()"
   ]
  },
  {
   "cell_type": "code",
   "execution_count": 37,
   "id": "90dbe254-575c-4db0-ac00-e95872902a26",
   "metadata": {},
   "outputs": [],
   "source": [
    "# striping the spaces as there are some uneven spaces in the Zip code values\n",
    "ward_data[\"ward_office_zip\"] = ward_data[\"ward_office_zip\"].str.strip()"
   ]
  },
  {
   "cell_type": "code",
   "execution_count": 38,
   "id": "cbe1dcbe-00e0-42ac-a53c-b5a6cb91cc27",
   "metadata": {},
   "outputs": [],
   "source": [
    "# converting the data type to int\n",
    "ward_data[\"ward_office_zip\"] = ward_data[\"ward_office_zip\"].astype(\"int64\")"
   ]
  },
  {
   "cell_type": "code",
   "execution_count": 39,
   "id": "d4d66a29-9fb0-42da-87c2-17b03026ec78",
   "metadata": {},
   "outputs": [
    {
     "name": "stdout",
     "output_type": "stream",
     "text": [
      "<class 'pandas.core.frame.DataFrame'>\n",
      "RangeIndex: 50 entries, 0 to 49\n",
      "Data columns (total 13 columns):\n",
      " #   Column                  Non-Null Count  Dtype \n",
      "---  ------                  --------------  ----- \n",
      " 0   ward_no                 50 non-null     int64 \n",
      " 1   alderman_first_name     50 non-null     object\n",
      " 2   alderman_last_name      50 non-null     object\n",
      " 3   alderman_name_suffix    50 non-null     object\n",
      " 4   ward_office_address     50 non-null     object\n",
      " 5   ward_office_zip         50 non-null     int64 \n",
      " 6   ward_email              45 non-null     object\n",
      " 7   ward_office_phone       47 non-null     object\n",
      " 8   ward_office_fax         22 non-null     object\n",
      " 9   city_hall_office_room   50 non-null     int64 \n",
      " 10  city_hall_office_phone  38 non-null     object\n",
      " 11  city_hall_office_fax    27 non-null     object\n",
      " 12  Population              50 non-null     int64 \n",
      "dtypes: int64(4), object(9)\n",
      "memory usage: 5.2+ KB\n"
     ]
    }
   ],
   "source": [
    "ward_data.info()"
   ]
  },
  {
   "cell_type": "code",
   "execution_count": 40,
   "id": "2154a2da-9dec-4dfe-9fe0-603b21e3606a",
   "metadata": {},
   "outputs": [],
   "source": [
    "ward_data.to_csv('DMQL DATA/ward_data_cleaned.csv', index=False)"
   ]
  },
  {
   "cell_type": "code",
   "execution_count": null,
   "id": "cd2135a4-3e98-48ca-9f04-70f5d351a278",
   "metadata": {},
   "outputs": [],
   "source": []
  }
 ],
 "metadata": {
  "kernelspec": {
   "display_name": "Python 3 (ipykernel)",
   "language": "python",
   "name": "python3"
  },
  "language_info": {
   "codemirror_mode": {
    "name": "ipython",
    "version": 3
   },
   "file_extension": ".py",
   "mimetype": "text/x-python",
   "name": "python",
   "nbconvert_exporter": "python",
   "pygments_lexer": "ipython3",
   "version": "3.12.5"
  }
 },
 "nbformat": 4,
 "nbformat_minor": 5
}
